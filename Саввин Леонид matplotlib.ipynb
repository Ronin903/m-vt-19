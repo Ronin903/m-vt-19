{
 "cells": [
  {
   "cell_type": "markdown",
   "metadata": {},
   "source": [
    "1. Нарисовать график sin(x) и задать название графику и подписать оси"
   ]
  },
  {
   "cell_type": "code",
   "execution_count": null,
   "metadata": {},
   "outputs": [],
   "source": [
    "import matplotlib as mpl\n",
    "import matplotlib.pyplot as plt\n",
    "import math\n",
    "\n",
    "dpi = 80\n",
    "fig = plt.figure(dpi = dpi, figsize = (512 / dpi, 384 / dpi) )\n",
    "mpl.rcParams.update({'font.size': 10})\n",
    "\n",
    "plt.axis([0, 10, -1.5, 1.5])\n",
    "\n",
    "plt.title('Sin')\n",
    "plt.xlabel('x')\n",
    "plt.ylabel('y')\n",
    "\n",
    "xs = []\n",
    "sin_vals = []\n",
    "\n",
    "x = 0.0\n",
    "while x < 10.0:\n",
    "    sin_vals += [ math.sin(x) ]\n",
    "    xs += [x]\n",
    "    x += 0.1\n",
    "\n",
    "plt.plot(xs, sin_vals, color = 'blue', linestyle = 'solid',\n",
    "         label = 'sin(x)')\n",
    "\n",
    "plt.legend(loc = 'upper right')"
   ]
  },
  {
   "cell_type": "markdown",
   "metadata": {},
   "source": [
    "2. Нарисовать графики sin(x) и cos(x) в одном рисунке, а также по отдельности"
   ]
  },
  {
   "cell_type": "code",
   "execution_count": null,
   "metadata": {},
   "outputs": [],
   "source": [
    "import matplotlib as mpl\n",
    "import matplotlib.pyplot as plt\n",
    "import math\n",
    "\n",
    "dpi = 80\n",
    "fig = plt.figure(dpi = dpi, figsize = (512 / dpi, 384 / dpi) )\n",
    "mpl.rcParams.update({'font.size': 10})\n",
    "\n",
    "plt.axis([0, 10, -1.5, 1.5])\n",
    "\n",
    "plt.title('Sine & Cosine')\n",
    "plt.xlabel('x')\n",
    "plt.ylabel('F(x)')\n",
    "\n",
    "xs = []\n",
    "sin_vals = []\n",
    "cos_vals = []\n",
    "\n",
    "x = 0.0\n",
    "while x < 10.0:\n",
    "    sin_vals += [ math.sin(x) ]\n",
    "    cos_vals += [ math.cos(x) ]\n",
    "    xs += [x]\n",
    "    x += 0.1\n",
    "\n",
    "plt.plot(xs, sin_vals, color = 'blue', linestyle = 'solid',\n",
    "         label = 'sin(x)')\n",
    "plt.plot(xs, cos_vals, color = 'red', linestyle = 'dashed',\n",
    "         label = 'cos(x)')\n",
    "\n",
    "plt.legend(loc = 'upper right')"
   ]
  },
  {
   "cell_type": "markdown",
   "metadata": {},
   "source": [
    "3. Сформировать вектор с распределением Гаусса и нарисовать график"
   ]
  },
  {
   "cell_type": "code",
   "execution_count": null,
   "metadata": {},
   "outputs": [],
   "source": []
  },
  {
   "cell_type": "markdown",
   "metadata": {},
   "source": [
    "4. Нарисовать график 10 стран с наибольшим количеством жителей и подписать оси"
   ]
  },
  {
   "cell_type": "code",
   "execution_count": null,
   "metadata": {},
   "outputs": [],
   "source": [
    "import matplotlib as mpl\n",
    "import matplotlib.pyplot as plt\n",
    "import matplotlib.dates as mdates\n",
    "import datetime as dt\n",
    "import csv\n",
    "\n",
    "data_names = ['Китай', 'Индия', 'США', 'Индонезия', 'Пакистан', 'Бразилия',\n",
    "              'Нигерия', 'Бангладеш', 'Россия', 'Япония']\n",
    "data_values = [1394470000, 1343160000, 328655000, 265015300, 212742631, 210215000, 188500000, 166009000,\n",
    "               146877088, 126440000]\n",
    "\n",
    "dpi = 80\n",
    "fig = plt.figure(dpi = dpi, figsize = (512 / dpi, 384 / dpi) )\n",
    "mpl.rcParams.update({'font.size': 9})\n",
    "\n",
    "plt.title('Население стран')\n",
    "\n",
    "ax = plt.axes()\n",
    "ax.xaxis.grid(True, zorder = 1)\n",
    "\n",
    "xs = range(len(data_names))\n",
    "\n",
    "plt.barh([x + 0.05 for x in xs], data_values,\n",
    "         height = 0.2, color = 'blue', alpha = 0.7, label = '2019',\n",
    "         zorder = 2)\n",
    "plt.yticks(xs, data_names, rotation = 10)\n",
    "\n",
    "plt.legend(loc='upper right')"
   ]
  },
  {
   "cell_type": "markdown",
   "metadata": {},
   "source": [
    "5. Нарисовать виды фигур Лиссажу при разных значениях параметров"
   ]
  }
 ],
 "metadata": {
  "kernelspec": {
   "display_name": "Python 3",
   "language": "python",
   "name": "python3"
  },
  "language_info": {
   "codemirror_mode": {
    "name": "ipython",
    "version": 3
   },
   "file_extension": ".py",
   "mimetype": "text/x-python",
   "name": "python",
   "nbconvert_exporter": "python",
   "pygments_lexer": "ipython3",
   "version": "3.7.3"
  }
 },
 "nbformat": 4,
 "nbformat_minor": 2
}
