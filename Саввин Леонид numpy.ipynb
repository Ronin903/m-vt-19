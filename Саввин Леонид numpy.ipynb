{
 "cells": [
  {
   "cell_type": "markdown",
   "metadata": {},
   "source": [
    "1. Создать вектор размером 10 состоящий из единиц"
   ]
  },
  {
   "cell_type": "code",
   "execution_count": null,
   "metadata": {},
   "outputs": [],
   "source": [
    "import numpy as np\n",
    "import random\n",
    "o = np.ones((10))\n",
    "print(o)"
   ]
  },
  {
   "cell_type": "markdown",
   "metadata": {},
   "source": [
    "2. Создать массив 4x4 заполненный случайными числами от 0 до 1"
   ]
  },
  {
   "cell_type": "code",
   "execution_count": null,
   "metadata": {},
   "outputs": [],
   "source": [
    "b = np.random.randint(0,2,(4,4))\n",
    "print(b)\n"
   ]
  },
  {
   "cell_type": "markdown",
   "metadata": {},
   "source": [
    "3. Создать массив 5x3 заполненный случайными целыми числами от 0 до 100"
   ]
  },
  {
   "cell_type": "code",
   "execution_count": null,
   "metadata": {},
   "outputs": [],
   "source": [
    "a = np.random.randint(0,100,(5,3))\n",
    "print(a)"
   ]
  },
  {
   "cell_type": "markdown",
   "metadata": {},
   "source": [
    "4. Поменять форму предыдущего массива на 3х5, а тип на float"
   ]
  },
  {
   "cell_type": "code",
   "execution_count": null,
   "metadata": {},
   "outputs": [],
   "source": [
    "import numpy as np\n",
    "import random\n",
    "n = 5\n",
    "m = 3\n",
    "a = np.zeros((n,m), 'int')\n",
    "for i in range(0,n):\n",
    "    for j in range(0,m):\n",
    "        a[i,j]=random.randint(0,100)\n",
    "print(a.reshape(3,5).astype(np.float))"
   ]
  },
  {
   "cell_type": "markdown",
   "metadata": {},
   "source": [
    "5. Найти сумму, максимум и среднее значение массива из пункта 3"
   ]
  },
  {
   "cell_type": "code",
   "execution_count": null,
   "metadata": {},
   "outputs": [],
   "source": [
    "k = np.random.randint(0,100, (5,3))\n",
    "print(k)\n",
    "print(np.sum(k))\n",
    "print(np.max(k))\n",
    "print(np.sum(k)/(5*3))"
   ]
  },
  {
   "cell_type": "markdown",
   "metadata": {},
   "source": [
    "6. Создать функцию который меняет элементы массива на следующее выражение: sin(x)+cos(x)"
   ]
  },
  {
   "cell_type": "code",
   "execution_count": null,
   "metadata": {},
   "outputs": [],
   "source": [
    "import numpy as np\n",
    "import random\n",
    "import math\n",
    "def sin(a):\n",
    "    for i in range(0,n):\n",
    "        for j in range(0,m):\n",
    "            a[i,j]=math.sin(a[i,j])+math.cos(a[i,j])\n",
    "    return a\n",
    "n = 4\n",
    "a=np.zeros((n,n),'float')\n",
    "for i in range(0,n):\n",
    "    for j in range(0,m):\n",
    "        a[i,j]=random.uniform(0,100)\n",
    "print(a)\n",
    "print(sin(a))"
   ]
  },
  {
   "cell_type": "markdown",
   "metadata": {},
   "source": [
    "7. Создать функцию вычисляющий: a*b+c, где a,b,c - массивы с размером nxn"
   ]
  },
  {
   "cell_type": "code",
   "execution_count": null,
   "metadata": {},
   "outputs": [],
   "source": [
    "n = 3\n",
    "a = np.zeros((n,n),'int')\n",
    "b = np.zeros((n,n),'int')\n",
    "c = np.zeros((n,n),'int')\n",
    "for i in range(0,n):\n",
    "    for j in range(0,n):\n",
    "        a[i,j]=random.randint(0,10)\n",
    "        b[i,j]=random.randint(0,10)\n",
    "        c[i,j]=random.randint(0,10)\n",
    "print(a)\n",
    "print(b)\n",
    "print(c)\n",
    "print(a*b+c)"
   ]
  },
  {
   "cell_type": "markdown",
   "metadata": {},
   "source": [
    "8. Найти определитель матрицы 3x3, если определитель положительный, то найти QR разложение иначе найти обратную матрицу."
   ]
  },
  {
   "cell_type": "code",
   "execution_count": null,
   "metadata": {},
   "outputs": [],
   "source": [
    "n = 3 \n",
    "a = np.zeros((n,n), 'int')\n",
    "for i in range(0,n):\n",
    "    for j in range(0,n):\n",
    "        a[i,j]=random.randint(0,10)\n",
    "b=np.linalg.det(a)\n",
    "if b>0:\n",
    "    k=np.linalg.qr(a)\n",
    "else:\n",
    "    m=np.linalg.inv(a)\n",
    "    print(m)\n",
    "print(a)\n",
    "print(b)"
   ]
  },
  {
   "cell_type": "markdown",
   "metadata": {},
   "source": [
    "9. Сделать скалярное и матричное умножение двух матриц nxm"
   ]
  },
  {
   "cell_type": "code",
   "execution_count": null,
   "metadata": {},
   "outputs": [],
   "source": [
    "n=3\n",
    "m=4\n",
    "a=np.zeros((n,m), 'int')\n",
    "b=np.zeros((n,m), 'int')\n",
    "for i in range(0,n):\n",
    "    for j in range(0,m):\n",
    "        a[i,j]=random.randint(0,10)\n",
    "        b[i,j]=random.randint(0,10)\n",
    "print(np.dot(a[i,j],b[i,j]))\n",
    "print(a*b)"
   ]
  },
  {
   "cell_type": "markdown",
   "metadata": {},
   "source": [
    "10. Решить систему линейный уравнений Ax = b, где А(nxn) и b(n) задаются случайно."
   ]
  },
  {
   "cell_type": "code",
   "execution_count": null,
   "metadata": {},
   "outputs": [],
   "source": [
    "n=3\n",
    "a = np.zeros((n,n), 'int')\n",
    "b = np.zeros((n),'int')\n",
    "for i in range(0,n):\n",
    "    b[i] = random.randint(0,10)\n",
    "    for j in range(0,n):\n",
    "        a[i,j]=random.randint(0,10)\n",
    "print(np.linalg.solve(a, b))"
   ]
  }
 ],
 "metadata": {
  "kernelspec": {
   "display_name": "Python 3",
   "language": "python",
   "name": "python3"
  },
  "language_info": {
   "codemirror_mode": {
    "name": "ipython",
    "version": 3
   },
   "file_extension": ".py",
   "mimetype": "text/x-python",
   "name": "python",
   "nbconvert_exporter": "python",
   "pygments_lexer": "ipython3",
   "version": "3.7.3"
  }
 },
 "nbformat": 4,
 "nbformat_minor": 2
}
