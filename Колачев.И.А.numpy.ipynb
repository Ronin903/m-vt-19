{
 "cells": [
  {
   "cell_type": "markdown",
   "metadata": {},
   "source": [
    "1. Создать вектор размером 10 состоящий из единиц"
   ]
  },
  {
   "cell_type": "code",
   "execution_count": 5,
   "metadata": {},
   "outputs": [
    {
     "name": "stdout",
     "output_type": "stream",
     "text": [
      "x: [1. 1. 1. 1. 1. 1. 1. 1. 1. 1.]\n"
     ]
    }
   ],
   "source": [
    "import numpy as np\n",
    "n=10\n",
    "x = np.ones(n)\n",
    "print('x:', x)"
   ]
  },
  {
   "cell_type": "markdown",
   "metadata": {},
   "source": [
    "2. Создать массив 4x4 заполненный случайными числами от 0 до 1"
   ]
  },
  {
   "cell_type": "code",
   "execution_count": 30,
   "metadata": {},
   "outputs": [
    {
     "name": "stdout",
     "output_type": "stream",
     "text": [
      "x:\n",
      " [[0.88261549 0.6164385  0.68218996 0.2193748 ]\n",
      " [0.12070229 0.12009045 0.00200559 0.99051776]\n",
      " [0.51707593 0.57674043 0.09595395 0.77862414]\n",
      " [0.36187148 0.44847571 0.71696373 0.94429663]]\n"
     ]
    }
   ],
   "source": [
    "n=4\n",
    "x = np.random.sample((n, n))\n",
    "print('x:\\n', x)"
   ]
  },
  {
   "cell_type": "markdown",
   "metadata": {},
   "source": [
    "3. Создать массив 5x3 заполненный случайными целыми числами от 0 до 100"
   ]
  },
  {
   "cell_type": "code",
   "execution_count": 7,
   "metadata": {},
   "outputs": [
    {
     "name": "stdout",
     "output_type": "stream",
     "text": [
      "f:\n",
      " [[60 22 68]\n",
      " [78 70  1]\n",
      " [83 34 55]\n",
      " [ 0  0 76]\n",
      " [78 50 89]]\n"
     ]
    }
   ],
   "source": [
    "f = np.random.randint(0, 100, (5, 3))\n",
    "print('f:\\n', f)"
   ]
  },
  {
   "cell_type": "markdown",
   "metadata": {},
   "source": [
    "4. Поменять форму предыдущего массива на 3х5, а тип на float"
   ]
  },
  {
   "cell_type": "code",
   "execution_count": 15,
   "metadata": {},
   "outputs": [
    {
     "name": "stdout",
     "output_type": "stream",
     "text": [
      "f:\n",
      " [[2.96e-322 1.09e-322 3.36e-322 3.85e-322 3.46e-322]\n",
      " [4.94e-324 4.10e-322 1.68e-322 2.72e-322 0.00e+000]\n",
      " [0.00e+000 3.75e-322 3.85e-322 2.47e-322 4.40e-322]]\n"
     ]
    }
   ],
   "source": [
    "f.shape = (3, 5)\n",
    "f.dtype = float\n",
    "print('f:\\n', f)"
   ]
  },
  {
   "cell_type": "markdown",
   "metadata": {},
   "source": [
    "5. Найти сумму, максимум и среднее значение массива из пункта 3"
   ]
  },
  {
   "cell_type": "code",
   "execution_count": 17,
   "metadata": {},
   "outputs": [
    {
     "name": "stdout",
     "output_type": "stream",
     "text": [
      "764\n",
      "89\n",
      "15.000000000000002\n"
     ]
    }
   ],
   "source": [
    "f.shape = (5,3)\n",
    "f.dtype = int\n",
    "print(np.sum(f))\n",
    "print(np.max(f))\n",
    "print(np.sum(f)/np.average(f))"
   ]
  },
  {
   "cell_type": "markdown",
   "metadata": {},
   "source": [
    "6. Создать функцию который меняет элементы массива на следующее выражение: sin(x)+cos(x)"
   ]
  },
  {
   "cell_type": "code",
   "execution_count": 31,
   "metadata": {},
   "outputs": [
    {
     "name": "stdout",
     "output_type": "stream",
     "text": [
      "x:\n",
      " [[1.40753581 1.3940755  1.40668819 1.19365315]\n",
      " [1.11313373 1.11259981 1.00200358 1.38456688]\n",
      " [1.36360883 1.38353905 1.09120672 1.41418112]\n",
      " [1.28926104 1.33470156 1.41090328 1.39639755]]\n"
     ]
    }
   ],
   "source": [
    "def sincos(x):\n",
    "    return np.sin(x) + np.cos(x)\n",
    "x=sincos(x)\n",
    "print('x:\\n', x)"
   ]
  },
  {
   "cell_type": "markdown",
   "metadata": {},
   "source": [
    "7. Создать функцию вычисляющий: a*b+c, где a,b,c - массивы с размером nxn"
   ]
  },
  {
   "cell_type": "code",
   "execution_count": 41,
   "metadata": {},
   "outputs": [],
   "source": [
    "def abc(a,b,c):\n",
    "    return a*b+с"
   ]
  },
  {
   "cell_type": "markdown",
   "metadata": {},
   "source": [
    "8. Найти определитель матрицы 3x3, если определитель положительный, то найти QR разложение иначе найти обратную матрицу."
   ]
  },
  {
   "cell_type": "code",
   "execution_count": 37,
   "metadata": {},
   "outputs": [
    {
     "name": "stdout",
     "output_type": "stream",
     "text": [
      "x:\n",
      " [[0.50888207 0.94545474 0.10815731]\n",
      " [0.9897366  0.23923202 0.14436449]\n",
      " [0.36272832 0.85769077 0.88004276]]\n",
      "a:\n",
      " [[-0.13393478  1.14184884 -0.17085125]\n",
      " [ 1.26444051 -0.63111364 -0.0518703 ]\n",
      " [-1.17712122  0.14444688  1.25728125]]\n"
     ]
    }
   ],
   "source": [
    "n=3\n",
    "x = np.random.sample((n, n))\n",
    "print('x:\\n', x)\n",
    "if np.linalg.det(x) > 0:\n",
    "    a = np.linalg.qr(x)\n",
    "else:\n",
    "    a = np.linalg.inv(x)\n",
    "print('a:\\n', a)"
   ]
  },
  {
   "cell_type": "markdown",
   "metadata": {},
   "source": [
    "9. Сделать скалярное и матричное умножение двух матриц nxm"
   ]
  },
  {
   "cell_type": "code",
   "execution_count": 40,
   "metadata": {},
   "outputs": [
    {
     "name": "stdout",
     "output_type": "stream",
     "text": [
      "a1:\n",
      " [[0.20313051 0.65740571 0.61241291]\n",
      " [0.0827167  0.1029918  0.51520313]\n",
      " [0.15451968 0.00116571 0.17958578]]\n",
      "a2:\n",
      " [[0.60558177 1.17455269 1.83309388]\n",
      " [0.25694981 0.35491704 0.74660301]\n",
      " [0.24512717 0.77360377 0.83782526]]\n"
     ]
    }
   ],
   "source": [
    "x1 = 3\n",
    "n = np.random.sample((x1, x1))\n",
    "m = np.random.sample((x1, x1))\n",
    "a1 = n*m\n",
    "a2 = n@m\n",
    "print('a1:\\n', a1)\n",
    "print('a2:\\n', a2)"
   ]
  },
  {
   "cell_type": "markdown",
   "metadata": {},
   "source": [
    "10. Решить систему линейный уравнений Ax = b, где А(nxn) и b(n) задаются случайно."
   ]
  },
  {
   "cell_type": "code",
   "execution_count": 43,
   "metadata": {},
   "outputs": [
    {
     "name": "stdout",
     "output_type": "stream",
     "text": [
      "x:\n",
      " [-2.86943139  1.23747564  0.69271268 -1.02565684  0.6073001 ]\n"
     ]
    }
   ],
   "source": [
    "n=5\n",
    "A = np.random.sample((n, n))\n",
    "b = np.random.sample(n)\n",
    "x = np.linalg.solve(A, b)\n",
    "print('x:\\n', x)"
   ]
  }
 ],
 "metadata": {
  "kernelspec": {
   "display_name": "Python 3",
   "language": "python",
   "name": "python3"
  },
  "language_info": {
   "codemirror_mode": {
    "name": "ipython",
    "version": 3
   },
   "file_extension": ".py",
   "mimetype": "text/x-python",
   "name": "python",
   "nbconvert_exporter": "python",
   "pygments_lexer": "ipython3",
   "version": "3.7.3"
  }
 },
 "nbformat": 4,
 "nbformat_minor": 2
}
